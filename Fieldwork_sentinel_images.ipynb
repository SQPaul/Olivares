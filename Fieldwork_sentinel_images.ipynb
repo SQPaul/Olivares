{
 "cells": [
  {
   "cell_type": "markdown",
   "id": "b069a30c-1cc3-48a1-9d83-1838dfd5ac44",
   "metadata": {},
   "source": [
    "# Field work\n",
    "## Upper Olivares catchment - january, 2023\n",
    "#### Paul Sandoval Quilodrán - https://github.com/SQPaul/Olivares"
   ]
  },
  {
   "cell_type": "code",
   "execution_count": 1,
   "id": "5214f8dd-6fb4-48c1-844b-db6e517e6c7f",
   "metadata": {},
   "outputs": [],
   "source": [
    "from sentinel2 import sentinel2"
   ]
  },
  {
   "cell_type": "code",
   "execution_count": 2,
   "id": "b507759d-1606-46ec-bc1c-d424c4f843b1",
   "metadata": {},
   "outputs": [
    {
     "name": "stdout",
     "output_type": "stream",
     "text": [
      "\u001b[1mLista de imágenes disponibles: \u001b[0m\n"
     ]
    },
    {
     "data": {
      "text/html": [
       "<div>\n",
       "<style scoped>\n",
       "    .dataframe tbody tr th:only-of-type {\n",
       "        vertical-align: middle;\n",
       "    }\n",
       "\n",
       "    .dataframe tbody tr th {\n",
       "        vertical-align: top;\n",
       "    }\n",
       "\n",
       "    .dataframe thead th {\n",
       "        text-align: right;\n",
       "    }\n",
       "</style>\n",
       "<table border=\"1\" class=\"dataframe\">\n",
       "  <thead>\n",
       "    <tr style=\"text-align: right;\">\n",
       "      <th></th>\n",
       "      <th>nubosidad</th>\n",
       "      <th>id</th>\n",
       "      <th>year</th>\n",
       "      <th>day</th>\n",
       "      <th>month</th>\n",
       "    </tr>\n",
       "    <tr>\n",
       "      <th>fecha</th>\n",
       "      <th></th>\n",
       "      <th></th>\n",
       "      <th></th>\n",
       "      <th></th>\n",
       "      <th></th>\n",
       "    </tr>\n",
       "  </thead>\n",
       "  <tbody>\n",
       "    <tr>\n",
       "      <th>2023-01-03 15:39:15</th>\n",
       "      <td>0.075574</td>\n",
       "      <td>20230103T143729_20230103T144503_T19HCD</td>\n",
       "      <td>2023</td>\n",
       "      <td>3</td>\n",
       "      <td>1</td>\n",
       "    </tr>\n",
       "    <tr>\n",
       "      <th>2023-01-03 15:39:15</th>\n",
       "      <td>0.073617</td>\n",
       "      <td>20230103T143729_20230103T144503_T19HDD</td>\n",
       "      <td>2023</td>\n",
       "      <td>3</td>\n",
       "      <td>1</td>\n",
       "    </tr>\n",
       "    <tr>\n",
       "      <th>2023-01-08 17:29:56</th>\n",
       "      <td>12.390042</td>\n",
       "      <td>20230108T143731_20230108T144127_T19HCD</td>\n",
       "      <td>2023</td>\n",
       "      <td>8</td>\n",
       "      <td>1</td>\n",
       "    </tr>\n",
       "  </tbody>\n",
       "</table>\n",
       "</div>"
      ],
      "text/plain": [
       "                     nubosidad                                      id  year  \\\n",
       "fecha                                                                          \n",
       "2023-01-03 15:39:15   0.075574  20230103T143729_20230103T144503_T19HCD  2023   \n",
       "2023-01-03 15:39:15   0.073617  20230103T143729_20230103T144503_T19HDD  2023   \n",
       "2023-01-08 17:29:56  12.390042  20230108T143731_20230108T144127_T19HCD  2023   \n",
       "\n",
       "                     day  month  \n",
       "fecha                            \n",
       "2023-01-03 15:39:15    3      1  \n",
       "2023-01-03 15:39:15    3      1  \n",
       "2023-01-08 17:29:56    8      1  "
      ]
     },
     "metadata": {},
     "output_type": "display_data"
    },
    {
     "name": "stdin",
     "output_type": "stream",
     "text": [
      "¿Desea descargar las imágenes?: (escriba si o no) si\n"
     ]
    },
    {
     "name": "stdout",
     "output_type": "stream",
     "text": [
      "Descarga comenzada!! Pueden demorar unos minutos en aparecer las imágenes en Google Drive\n"
     ]
    }
   ],
   "source": [
    "mask = r\"P:\\Projects\\Olivares\\Terreno\\area.gpkg\"\n",
    "sentinel2(mask,20,\"2023-01-01\",\"2023-01-13\")"
   ]
  },
  {
   "cell_type": "code",
   "execution_count": null,
   "id": "0574a780-eeeb-489f-b2bd-2489f08f2093",
   "metadata": {},
   "outputs": [],
   "source": []
  }
 ],
 "metadata": {
  "kernelspec": {
   "display_name": "Python 3 (ipykernel)",
   "language": "python",
   "name": "python3"
  },
  "language_info": {
   "codemirror_mode": {
    "name": "ipython",
    "version": 3
   },
   "file_extension": ".py",
   "mimetype": "text/x-python",
   "name": "python",
   "nbconvert_exporter": "python",
   "pygments_lexer": "ipython3",
   "version": "3.9.7"
  }
 },
 "nbformat": 4,
 "nbformat_minor": 5
}
