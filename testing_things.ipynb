{
 "cells": [
  {
   "cell_type": "code",
   "execution_count": 18,
   "id": "b73a0029-6bab-4229-8db9-d587ebf737c8",
   "metadata": {},
   "outputs": [],
   "source": [
    "import subprocess\n",
    "import os\n",
    "import time\n",
    "import numpy as np\n",
    "import pandas as pd\n",
    "import openpyxl\n",
    "import datetime\n",
    "import hydroeval as he\n",
    "from configparser import ConfigParser\n",
    "import matplotlib.pyplot as plt"
   ]
  },
  {
   "cell_type": "code",
   "execution_count": 3,
   "id": "465712d1-7cfe-4694-8240-a29404215bfd",
   "metadata": {},
   "outputs": [
    {
     "name": "stdout",
     "output_type": "stream",
     "text": [
      "            0\n",
      "KGE  0.230669\n",
      "r    0.372684\n",
      "γ    1.356914\n",
      "β    0.733623\n",
      "             0\n",
      "NASH -0.280189\n"
     ]
    }
   ],
   "source": [
    "#Import paths\n",
    "obs_path = r\"P:\\Projects\\Olivares\\Streamflow\\qobs_2000.csv\"\n",
    "sim_path = r\"C:\\Users\\pauls\\Anaconda3\\pkgs\\sphy-2.2.1-py_0\\site-packages\\SPHY\\Olivares\\output\\QTOTSubBasinTSS.tss\"\n",
    "    \n",
    "#Read and prepare obs streamflow\n",
    "obs = pd.read_csv(obs_path)\n",
    "obs = obs.iloc[:,1]\n",
    "\n",
    "#Read and prepare sim streamflow\n",
    "sim_read = pd.read_csv(sim_path,index_col=False,skiprows=4)\n",
    "sim = []\n",
    "    \n",
    "for v in range(len(sim_read)):\n",
    "    val = sim_read.iloc[v,0].strip()\n",
    "    val = \" \".join(val.split())\n",
    "    sim.append(val)\n",
    "\n",
    "sim = pd.DataFrame(sim)\n",
    "sim.columns = [\"name\"]\n",
    "sim = sim[\"name\"].str.split(\" \",expand=True)\n",
    "sim = pd.DataFrame(sim.iloc[:,2]).astype(float)\n",
    "sim = sim.iloc[:,0]\n",
    "\n",
    "#Calculate KGE'\n",
    "kge = pd.DataFrame(he.evaluator(he.kgeprime, sim, obs),index=[\"KGE\",\"r\",\"γ\",\"β\"])\n",
    "nash = pd.DataFrame(he.evaluator(he.nse, sim, obs),index=[\"NASH\"])\n",
    "#array.append(kge)\n",
    "#array.append(nash)\n",
    "print(kge)\n",
    "print(nash)"
   ]
  },
  {
   "cell_type": "code",
   "execution_count": 10,
   "id": "034d0e93-9728-4dcb-8cef-8c314fa295b2",
   "metadata": {},
   "outputs": [
    {
     "data": {
      "text/plain": [
       "0.7336228892958363"
      ]
     },
     "execution_count": 10,
     "metadata": {},
     "output_type": "execute_result"
    }
   ],
   "source": [
    "kge[0][3]"
   ]
  },
  {
   "cell_type": "code",
   "execution_count": 12,
   "id": "d11622f4-1a03-4b3e-b3d9-47ea9d7a6de0",
   "metadata": {},
   "outputs": [
    {
     "data": {
      "text/plain": [
       "-0.28018921605586833"
      ]
     },
     "execution_count": 12,
     "metadata": {},
     "output_type": "execute_result"
    }
   ],
   "source": [
    "nash[0][0]"
   ]
  },
  {
   "cell_type": "code",
   "execution_count": 25,
   "id": "7fa9eac5-8f18-427f-9ee1-1c247e2a7e72",
   "metadata": {},
   "outputs": [],
   "source": [
    "kge2 = []\n",
    "kge2.append(kge[0][0])"
   ]
  },
  {
   "cell_type": "code",
   "execution_count": 26,
   "id": "f22a164d-422a-457c-aebc-a34be8f412c5",
   "metadata": {},
   "outputs": [],
   "source": [
    "kge2.append(0.55)\n",
    "kge2.append(0.1)\n",
    "kge2.append(0.05)"
   ]
  },
  {
   "cell_type": "code",
   "execution_count": 27,
   "id": "2e4b7585-7844-407d-938b-38e3b1d75c41",
   "metadata": {},
   "outputs": [
    {
     "data": {
      "text/html": [
       "<div>\n",
       "<style scoped>\n",
       "    .dataframe tbody tr th:only-of-type {\n",
       "        vertical-align: middle;\n",
       "    }\n",
       "\n",
       "    .dataframe tbody tr th {\n",
       "        vertical-align: top;\n",
       "    }\n",
       "\n",
       "    .dataframe thead th {\n",
       "        text-align: right;\n",
       "    }\n",
       "</style>\n",
       "<table border=\"1\" class=\"dataframe\">\n",
       "  <thead>\n",
       "    <tr style=\"text-align: right;\">\n",
       "      <th></th>\n",
       "      <th>0</th>\n",
       "    </tr>\n",
       "  </thead>\n",
       "  <tbody>\n",
       "    <tr>\n",
       "      <th>0</th>\n",
       "      <td>0.230669</td>\n",
       "    </tr>\n",
       "    <tr>\n",
       "      <th>1</th>\n",
       "      <td>0.550000</td>\n",
       "    </tr>\n",
       "    <tr>\n",
       "      <th>2</th>\n",
       "      <td>0.100000</td>\n",
       "    </tr>\n",
       "    <tr>\n",
       "      <th>3</th>\n",
       "      <td>0.050000</td>\n",
       "    </tr>\n",
       "  </tbody>\n",
       "</table>\n",
       "</div>"
      ],
      "text/plain": [
       "          0\n",
       "0  0.230669\n",
       "1  0.550000\n",
       "2  0.100000\n",
       "3  0.050000"
      ]
     },
     "execution_count": 27,
     "metadata": {},
     "output_type": "execute_result"
    }
   ],
   "source": [
    "kge2 = pd.DataFrame(kge2)\n",
    "kge2"
   ]
  },
  {
   "cell_type": "code",
   "execution_count": 30,
   "id": "2962e913-bfc1-415e-89fc-feed0b9b4cb0",
   "metadata": {},
   "outputs": [
    {
     "data": {
      "text/plain": [
       "<AxesSubplot:>"
      ]
     },
     "execution_count": 30,
     "metadata": {},
     "output_type": "execute_result"
    },
    {
     "data": {
      "image/png": "[encoded data removed]",
      "text/plain": [
       "<Figure size 432x288 with 1 Axes>"
      ]
     },
     "metadata": {
      "needs_background": "light"
     },
     "output_type": "display_data"
    }
   ],
   "source": [
    "kge2.plot(kind=\"bar\")"
   ]
  },
  {
   "cell_type": "code",
   "execution_count": null,
   "id": "557f0dd3-f613-40eb-b2e3-7a43baae33eb",
   "metadata": {},
   "outputs": [],
   "source": []
  }
 ],
 "metadata": {
  "kernelspec": {
   "display_name": "Python 3 (ipykernel)",
   "language": "python",
   "name": "python3"
  },
  "language_info": {
   "codemirror_mode": {
    "name": "ipython",
    "version": 3
   },
   "file_extension": ".py",
   "mimetype": "text/x-python",
   "name": "python",
   "nbconvert_exporter": "python",
   "pygments_lexer": "ipython3",
   "version": "3.9.7"
  }
 },
 "nbformat": 4,
 "nbformat_minor": 5
}
