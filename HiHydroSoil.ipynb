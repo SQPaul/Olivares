{
 "cells": [
  {
   "cell_type": "markdown",
   "id": "2c4377b5-4cac-4ad1-ad94-e61ea1a941a2",
   "metadata": {},
   "source": [
    "# Soil properties\n",
    "## Upper Olivares catchment - january, 2023\n",
    "#### Paul Sandoval Quilodrán - https://github.com/SQPaul/Olivares"
   ]
  },
  {
   "cell_type": "markdown",
   "id": "543f75a0-8844-47e0-af89-11f5d233ac08",
   "metadata": {},
   "source": [
    "#### Import packages"
   ]
  },
  {
   "cell_type": "code",
   "execution_count": 2,
   "id": "051aecfe-0c2e-4103-8bdf-31d79263d270",
   "metadata": {},
   "outputs": [],
   "source": [
    "import glob\n",
    "import rasterio\n",
    "import numpy as np\n",
    "#from matplotlib import pyplot\n",
    "#from rasterio.plot import show"
   ]
  },
  {
   "cell_type": "markdown",
   "id": "3ea958d2-04f1-45d7-be99-c7726c91669b",
   "metadata": {},
   "source": [
    "### Selecting useful data - ### RUN IN QGIS !!!"
   ]
  },
  {
   "cell_type": "code",
   "execution_count": null,
   "id": "1df29fbc-a6ab-45bd-bd66-0ecd18f9350f",
   "metadata": {},
   "outputs": [],
   "source": [
    "hydrosoil = glob.glob(r\"P:\\Projects\\Hidrology\\HiHydroSoil/*.tif\") \n",
    "\n",
    "for i in hydrosoil:\n",
    "    name = i[34:-4]\n",
    "    #print(name)\n",
    "    if name == \"WCpF2_M_250m_TOPSOIL\":\n",
    "        R_FC = i\n",
    "    elif name == \"WCsat_M_250m_TOPSOIL\":\n",
    "        R_SC = i\n",
    "    elif name == \"WCpF4.2_M_250m_TOPSOIL\":\n",
    "        R_PWP = i\n",
    "    elif name == \"WCpF3_M_250m_TOPSOIL\":\n",
    "        R_WP = i\n",
    "    elif name == \"Ksat_M_250m_TOPSOIL\":\n",
    "        R_KSAT = i\n",
    "    elif name == \"WCpF2_M_250m_SUBSOIL\":\n",
    "        S_FC = i\n",
    "    elif name == \"WCsat_M_250m_SUBSOIL\":\n",
    "        S_SC = i\n",
    "    elif name == \"Ksat_M_250m_SUBSOIL\":\n",
    "        S_KSAT = i\n",
    "        \n",
    "hydrosoil_sel = [R_FC,R_SC,R_PWP,R_WP,R_KSAT,S_FC,S_SC,S_KSAT] \n",
    "hydrosoil_sel"
   ]
  },
  {
   "cell_type": "markdown",
   "id": "e2719661-dbbd-4b07-a926-572bd94aa496",
   "metadata": {},
   "source": [
    "## Resampling HiHydroSoil \n",
    "### Change crs, resolution and extent"
   ]
  },
  {
   "cell_type": "code",
   "execution_count": null,
   "id": "aa9ff5bf-8ca4-43aa-81e9-62be21fe9778",
   "metadata": {},
   "outputs": [],
   "source": [
    "for i in hydrosoil_sel:\n",
    "    output = i[:-4]+\"_mod.tif\"\n",
    "    processing.run(\"gdal:warpreproject\", \n",
    "               {'INPUT':str(i),\n",
    "                'SOURCE_CRS':None,\n",
    "                'TARGET_CRS':QgsCoordinateReferenceSystem('EPSG:32719'),\n",
    "                'RESAMPLING':0,'NODATA':None,\n",
    "                'TARGET_RESOLUTION':500,\n",
    "                'OPTIONS':'',\n",
    "                'DATA_TYPE':0,\n",
    "                'TARGET_EXTENT':'374779.000000000,414779.000000000,6290050.000000000,6346050.000000000 [EPSG:32719]',\n",
    "                'TARGET_EXTENT_CRS':None,\n",
    "                'MULTITHREADING':False,\n",
    "                'EXTRA':'',\n",
    "                'OUTPUT':str(output)})"
   ]
  },
  {
   "cell_type": "markdown",
   "id": "bcf4dd16-351f-4c8d-a34d-898c9cd5fb10",
   "metadata": {},
   "source": [
    "## Multiply the rasters by 0.0001 and write it in PCRaster format"
   ]
  },
  {
   "cell_type": "code",
   "execution_count": 3,
   "id": "c5040c0a-0faa-49e8-8820-81ab3855c4ab",
   "metadata": {},
   "outputs": [
    {
     "data": {
      "text/plain": [
       "['P:\\\\Projects\\\\Hidrology\\\\HiHydroSoil\\\\WCpF2_M_250m_TOPSOIL_mod.tif',\n",
       " 'P:\\\\Projects\\\\Hidrology\\\\HiHydroSoil\\\\WCsat_M_250m_TOPSOIL_mod.tif',\n",
       " 'P:\\\\Projects\\\\Hidrology\\\\HiHydroSoil\\\\WCpF4.2_M_250m_TOPSOIL_mod.tif',\n",
       " 'P:\\\\Projects\\\\Hidrology\\\\HiHydroSoil\\\\WCpF3_M_250m_TOPSOIL_mod.tif',\n",
       " 'P:\\\\Projects\\\\Hidrology\\\\HiHydroSoil\\\\Ksat_M_250m_TOPSOIL_mod.tif',\n",
       " 'P:\\\\Projects\\\\Hidrology\\\\HiHydroSoil\\\\WCpF2_M_250m_SUBSOIL_mod.tif',\n",
       " 'P:\\\\Projects\\\\Hidrology\\\\HiHydroSoil\\\\WCsat_M_250m_SUBSOIL_mod.tif',\n",
       " 'P:\\\\Projects\\\\Hidrology\\\\HiHydroSoil\\\\Ksat_M_250m_SUBSOIL_mod.tif']"
      ]
     },
     "execution_count": 3,
     "metadata": {},
     "output_type": "execute_result"
    }
   ],
   "source": [
    "hydrosoil = glob.glob(r\"P:\\Projects\\Hidrology\\HiHydroSoil/*mod.tif\") #r\"/media/phi/SANDOVAL/LAST PAUL/VI año/Memoria de título/Modelación/Soil_properties#/*.tif\" \n",
    "\n",
    "for i in hydrosoil:\n",
    "    name = i[34:-8]\n",
    "    #print(name)\n",
    "    if name == \"WCpF2_M_250m_TOPSOIL\":\n",
    "        R_FC = i\n",
    "    elif name == \"WCsat_M_250m_TOPSOIL\":\n",
    "        R_SC = i\n",
    "    elif name == \"WCpF4.2_M_250m_TOPSOIL\":\n",
    "        R_PWP = i\n",
    "    elif name == \"WCpF3_M_250m_TOPSOIL\":\n",
    "        R_WP = i\n",
    "    elif name == \"Ksat_M_250m_TOPSOIL\":\n",
    "        R_KSAT = i\n",
    "    elif name == \"WCpF2_M_250m_SUBSOIL\":\n",
    "        S_FC = i\n",
    "    elif name == \"WCsat_M_250m_SUBSOIL\":\n",
    "        S_SC = i\n",
    "    elif name == \"Ksat_M_250m_SUBSOIL\":\n",
    "        S_KSAT = i\n",
    "        \n",
    "hydrosoil_sel = [R_FC,R_SC,R_PWP,R_WP,R_KSAT,S_FC,S_SC,S_KSAT]\n",
    "hydrosoil_sel"
   ]
  },
  {
   "cell_type": "code",
   "execution_count": 4,
   "id": "5b9b5a7c-558b-4c17-b9b2-2d13a8ca031f",
   "metadata": {},
   "outputs": [],
   "source": [
    "hydrosoil_names = [\"R_FC\",\"R_SC\",\"R_PWP\",\"R_WP\",\"R_KSAT\",\"S_FC\",\"S_SC\",\"S_KSAT\"]\n",
    "\n",
    "for i in range(len(hydrosoil_names)):\n",
    "    output = r\"P:\\Projects\\Hidrology\\HiHydroSoil/\"+hydrosoil_names[i]+\".map\"\n",
    "    raster = rasterio.open(hydrosoil_sel[i])\n",
    "    raster_array = raster.read(1)*0.0001\n",
    "    new_raster = rasterio.open(\n",
    "        str(output),\"w\",\n",
    "        driver = \"PCRaster\",\n",
    "        pcraster_valuescale = \"VS_SCALAR\",\n",
    "        height = raster.shape[0],\n",
    "        width = raster.shape[1],\n",
    "        count = 1,\n",
    "        nodata = raster.nodata,\n",
    "        dtype = np.float32,\n",
    "        crs = 32719,\n",
    "        transform = raster.transform)\n",
    "    new_raster.write(raster_array,1)\n",
    "    new_raster.close()"
   ]
  }
 ],
 "metadata": {
  "kernelspec": {
   "display_name": "Python 3 (ipykernel)",
   "language": "python",
   "name": "python3"
  },
  "language_info": {
   "codemirror_mode": {
    "name": "ipython",
    "version": 3
   },
   "file_extension": ".py",
   "mimetype": "text/x-python",
   "name": "python",
   "nbconvert_exporter": "python",
   "pygments_lexer": "ipython3",
   "version": "3.11.0"
  }
 },
 "nbformat": 4,
 "nbformat_minor": 5
}
