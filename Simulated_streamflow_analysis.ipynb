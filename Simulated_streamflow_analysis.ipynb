{
 "cells": [
  {
   "cell_type": "markdown",
   "id": "c0b00c22-5167-4f41-92e5-6745908e1042",
   "metadata": {},
   "source": [
    "# Simulated streamflow analysis\n",
    "## Upper Olivares catchment - january, 2023\n",
    "#### Paul Sandoval Quilodrán - https://github.com/SQPaul/Olivares"
   ]
  },
  {
   "cell_type": "markdown",
   "id": "342ac2ff-e218-4fce-ac9c-ae7b90484bb5",
   "metadata": {},
   "source": [
    "#### import packages"
   ]
  },
  {
   "cell_type": "code",
   "execution_count": 1,
   "id": "0f65a4cf-20d0-43c0-ba10-132ce8817914",
   "metadata": {},
   "outputs": [],
   "source": [
    "import pandas as pd\n",
    "import numpy as np\n",
    "import openpyxl\n",
    "import re\n",
    "import matplotlib.pyplot as plt\n",
    "import datetime\n",
    "import hydroeval as he"
   ]
  },
  {
   "cell_type": "markdown",
   "id": "8b9dca8b-9e89-4fa5-991b-f18f4f9729f2",
   "metadata": {},
   "source": [
    "### Sensitivity analysis\n",
    "#### KGE"
   ]
  },
  {
   "cell_type": "code",
   "execution_count": 2,
   "id": "6d4a34f3-6f54-4342-9577-d7de77893f1b",
   "metadata": {},
   "outputs": [
    {
     "data": {
      "text/html": [
       "<div>\n",
       "<style scoped>\n",
       "    .dataframe tbody tr th:only-of-type {\n",
       "        vertical-align: middle;\n",
       "    }\n",
       "\n",
       "    .dataframe tbody tr th {\n",
       "        vertical-align: top;\n",
       "    }\n",
       "\n",
       "    .dataframe thead th {\n",
       "        text-align: right;\n",
       "    }\n",
       "</style>\n",
       "<table border=\"1\" class=\"dataframe\">\n",
       "  <thead>\n",
       "    <tr style=\"text-align: right;\">\n",
       "      <th></th>\n",
       "      <th>0</th>\n",
       "    </tr>\n",
       "  </thead>\n",
       "  <tbody>\n",
       "    <tr>\n",
       "      <th>KGE</th>\n",
       "      <td>0.640111</td>\n",
       "    </tr>\n",
       "    <tr>\n",
       "      <th>r</th>\n",
       "      <td>0.664751</td>\n",
       "    </tr>\n",
       "    <tr>\n",
       "      <th>γ</th>\n",
       "      <td>1.054165</td>\n",
       "    </tr>\n",
       "    <tr>\n",
       "      <th>β</th>\n",
       "      <td>0.880861</td>\n",
       "    </tr>\n",
       "  </tbody>\n",
       "</table>\n",
       "</div>"
      ],
      "text/plain": [
       "            0\n",
       "KGE  0.640111\n",
       "r    0.664751\n",
       "γ    1.054165\n",
       "β    0.880861"
      ]
     },
     "execution_count": 2,
     "metadata": {},
     "output_type": "execute_result"
    }
   ],
   "source": [
    "#Import paths\n",
    "#obs_path = \"P:\\Projects\\Olivares\\Streamflow\\qobs_2005.xlsx\"\n",
    "obs_path = \"P:\\Projects\\Olivares\\Streamflow\\qobs_v0.xlsx\"\n",
    "sim_path = r\"P:\\Projects\\Olivares\\SPHY\\output\\QTOTSubBasinTSS.tss\"\n",
    "#sim_path = r\"P:\\Projects\\Olivares\\Calibration\\Server\\QTOTSubBasinTSS.tss\"\n",
    "\n",
    "#Read and prepare obs streamflow\n",
    "obs = pd.read_excel(obs_path,sheet_name=\"4\",engine=\"openpyxl\")\n",
    "obs = obs.iloc[:,1]\n",
    "\n",
    "#Read and prepare sim streamflow\n",
    "sim_read = pd.read_csv(sim_path,index_col=False,skiprows=4)\n",
    "sim = []\n",
    "for v in range(len(sim_read)):\n",
    "    val = sim_read.iloc[v,0].strip()\n",
    "    val = \" \".join(val.split())\n",
    "    sim.append(val)\n",
    "sim = pd.DataFrame(sim)\n",
    "sim.columns = [\"name\"]\n",
    "sim = sim[\"name\"].str.split(\" \",expand=True)\n",
    "sim = pd.DataFrame(sim.iloc[:,2]).astype(float)\n",
    "sim = sim.iloc[:,0]\n",
    "\n",
    "#Calculate KGE'\n",
    "kge = pd.DataFrame(he.evaluator(he.kgeprime, sim, obs),index=[\"KGE\",\"r\",\"γ\",\"β\"])\n",
    "kge"
   ]
  },
  {
   "cell_type": "markdown",
   "id": "63f72ecb-26bf-4a6a-a507-f9025c032245",
   "metadata": {},
   "source": [
    "#### NASH"
   ]
  },
  {
   "cell_type": "code",
   "execution_count": 3,
   "id": "a8069758-4e0f-4c6f-809f-b9ae261b90ca",
   "metadata": {},
   "outputs": [
    {
     "data": {
      "text/html": [
       "<div>\n",
       "<style scoped>\n",
       "    .dataframe tbody tr th:only-of-type {\n",
       "        vertical-align: middle;\n",
       "    }\n",
       "\n",
       "    .dataframe tbody tr th {\n",
       "        vertical-align: top;\n",
       "    }\n",
       "\n",
       "    .dataframe thead th {\n",
       "        text-align: right;\n",
       "    }\n",
       "</style>\n",
       "<table border=\"1\" class=\"dataframe\">\n",
       "  <thead>\n",
       "    <tr style=\"text-align: right;\">\n",
       "      <th></th>\n",
       "      <th>0</th>\n",
       "    </tr>\n",
       "  </thead>\n",
       "  <tbody>\n",
       "    <tr>\n",
       "      <th>NASH</th>\n",
       "      <td>0.367109</td>\n",
       "    </tr>\n",
       "  </tbody>\n",
       "</table>\n",
       "</div>"
      ],
      "text/plain": [
       "             0\n",
       "NASH  0.367109"
      ]
     },
     "execution_count": 3,
     "metadata": {},
     "output_type": "execute_result"
    }
   ],
   "source": [
    "#Import paths\n",
    "#obs_path = \"P:\\Projects\\Olivares\\Streamflow\\qobs_2005.xlsx\"\n",
    "obs_path = \"P:\\Projects\\Olivares\\Streamflow\\qobs_v0.xlsx\"\n",
    "sim_path = r\"P:\\Projects\\Olivares\\SPHY\\output\\QTOTSubBasinTSS.tss\"\n",
    "#sim_path = r\"P:\\Projects\\Olivares\\Calibration\\Server\\QTOTSubBasinTSS.tss\"\n",
    "#thickness_path = r\"C:\\Users\\pauls\\Anaconda3\\pkgs\\sphy-2.2.1-py_0\\site-packages\\SPHY\\Juncal_norte\\output\\ICE_DEPTH.csv\"\n",
    "\n",
    "\n",
    "#Read and prepare obs streamflow\n",
    "obs = pd.read_excel(obs_path,sheet_name=\"4\",engine=\"openpyxl\")\n",
    "obs = obs.iloc[:,1]\n",
    "\n",
    "#Read and prepare sim streamflow\n",
    "sim_read = pd.read_csv(sim_path,index_col=False,skiprows=4)\n",
    "sim = []\n",
    "for v in range(len(sim_read)):\n",
    "    val = sim_read.iloc[v,0].strip()\n",
    "    val = \" \".join(val.split())\n",
    "    sim.append(val)\n",
    "sim = pd.DataFrame(sim)\n",
    "sim.columns = [\"name\"]\n",
    "sim = sim[\"name\"].str.split(\" \",expand=True)\n",
    "sim = pd.DataFrame(sim.iloc[:,2]).astype(float)\n",
    "sim = sim.iloc[:,0]\n",
    "\n",
    "#Calculate KGE'\n",
    "nash = pd.DataFrame(he.evaluator(he.nse, sim, obs),index=[\"NASH\"])\n",
    "nash"
   ]
  },
  {
   "cell_type": "markdown",
   "id": "fedaa7b5-093c-4fcf-afd2-33e40c768dee",
   "metadata": {},
   "source": [
    "### Total streamflow"
   ]
  },
  {
   "cell_type": "code",
   "execution_count": 4,
   "id": "45e24888-9070-4fc2-8242-634a5bdd1c13",
   "metadata": {},
   "outputs": [],
   "source": [
    "#Define paths\n",
    "\n",
    "#rain_path = r\"P:\\Projects\\Olivares\\Calibration\\Server\\QRAINSubBasinTSS.tss\"\n",
    "#snow_path = r\"P:\\Projects\\Olivares\\Calibration\\Server\\QSNOWSubBasinTSS.tss\"\n",
    "#glacier_path = r\"P:\\Projects\\Olivares\\Calibration\\Server\\QGLACSubBasinTSS.tss\"\n",
    "#baseflow_path = r\"P:\\Projects\\Olivares\\Calibration\\Server\\QBASFSubBasinTSS.tss\"\n",
    "obs_path = r\"P:\\Projects\\Olivares\\Streamflow\\qobs_v0.xlsx\"\n",
    "\n",
    "rain_path = r\"P:\\Projects\\Olivares\\SPHY\\output\\QRAINSubBasinTSS.tss\"\n",
    "snow_path = r\"P:\\Projects\\Olivares\\SPHY\\output\\QSNOWSubBasinTSS.tss\"\n",
    "glacier_path = r\"P:\\Projects\\Olivares\\SPHY\\output\\QGLACSubBasinTSS.tss\"\n",
    "baseflow_path = r\"P:\\Projects\\Olivares\\SPHY\\output\\QBASFSubBasinTSS.tss\"\n",
    "\n",
    "paths = [rain_path, snow_path, glacier_path, baseflow_path]\n",
    "\n",
    "rain = []\n",
    "snow = []\n",
    "glacier = []\n",
    "baseflow = []\n",
    "sim = []\n",
    "\n",
    "streamflow = [rain,snow,glacier,baseflow]\n",
    "\n",
    "for i in range(len(paths)):\n",
    "    var = pd.read_csv(paths[i],index_col=False,skiprows=4)\n",
    "    for j in range(len(var)):\n",
    "        val = var.iloc[j,0].strip()\n",
    "        val = \" \".join(val.split())\n",
    "        streamflow[i].append(val)       \n",
    "    streamflow[i] = pd.DataFrame(streamflow[i])\n",
    "    streamflow[i].columns = [\"name\"]\n",
    "    streamflow[i] = streamflow[i][\"name\"].str.split(\" \",expand=True)\n",
    "    streamflow[i] = pd.DataFrame(streamflow[i].iloc[:,2])\n",
    "\n",
    "\n",
    "obs = pd.read_excel(obs_path,sheet_name=\"4\",engine=\"openpyxl\")\n",
    "        \n",
    "rain = pd.DataFrame(streamflow[0]).astype(float)\n",
    "rain.columns = [\"rain\"]\n",
    "snow = pd.DataFrame(streamflow[1]).astype(float)\n",
    "snow.columns = [\"snow\"]\n",
    "glacier = pd.DataFrame(streamflow[2]).astype(float)\n",
    "glacier.columns = [\"glacier\"]\n",
    "baseflow = pd.DataFrame(streamflow[3]).astype(float)\n",
    "baseflow.columns = [\"baseflow\"]\n",
    "\n",
    "for k in range(len(rain)):\n",
    "    sim.append(rain.iloc[k,0]+snow.iloc[k,0]+glacier.iloc[k,0]+baseflow.iloc[k,0])\n",
    "\n",
    "sim = pd.DataFrame(sim)\n",
    "sim.columns = [\"sim\"]\n",
    "obs = pd.DataFrame(obs.iloc[:,1]).astype(float)\n",
    "obs.columns = [\"obs\"]\n",
    "\n",
    "streamflow = pd.concat([baseflow,rain,snow,glacier,sim,obs],axis=1)\n",
    "streamflow.to_excel(r\"P:\\Projects\\Olivares\\Streamflow\\qsim.xlsx\")"
   ]
  },
  {
   "cell_type": "code",
   "execution_count": null,
   "id": "47bfe8e3-9648-4a83-9e6b-800bebf39bb0",
   "metadata": {},
   "outputs": [],
   "source": []
  }
 ],
 "metadata": {
  "kernelspec": {
   "display_name": "Python 3 (ipykernel)",
   "language": "python",
   "name": "python3"
  },
  "language_info": {
   "codemirror_mode": {
    "name": "ipython",
    "version": 3
   },
   "file_extension": ".py",
   "mimetype": "text/x-python",
   "name": "python",
   "nbconvert_exporter": "python",
   "pygments_lexer": "ipython3",
   "version": "3.9.7"
  }
 },
 "nbformat": 4,
 "nbformat_minor": 5
}
